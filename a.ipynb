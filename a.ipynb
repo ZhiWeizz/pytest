{
 "cells": [
  {
   "cell_type": "markdown",
   "metadata": {},
   "source": [
    "高斯积分与Scipy库的比较"
   ]
  },
  {
   "cell_type": "code",
   "execution_count": 1,
   "metadata": {},
   "outputs": [],
   "source": [
    "import numpy as np\n",
    "import gsInt as gs\n",
    "from scipy.integrate import quad, dblquad, tplquad"
   ]
  },
  {
   "cell_type": "code",
   "execution_count": 2,
   "metadata": {},
   "outputs": [],
   "source": [
    "# 测试函数\n",
    "def fx(x, y=0, z=0):\n",
    "    return np.exp(x)*np.cos(y)*np.cos(z)*(x*y*z+x**2+1)"
   ]
  },
  {
   "cell_type": "code",
   "execution_count": 4,
   "metadata": {},
   "outputs": [
    {
     "name": "stdout",
     "output_type": "stream",
     "text": [
      "\t高斯积分\t\t\tscipy积分\n",
      "一重\t2.4365636569180906\t2.4365636569180906\n",
      "二重\t2.0502976199339953\t2.0502976199339953\n",
      "三重\t1.8710168028687542\t1.8710168028687546\n"
     ]
    }
   ],
   "source": [
    "# 准确性比较\n",
    "\n",
    "print('\\t高斯积分\\t\\t\\tscipy积分')\n",
    "print('一重\\t{}\\t{}'.format(gs.gausf(fx), quad(fx, 0, 1)[0]))\n",
    "print('二重\\t{}\\t{}'.format(gs.gausf2(fx), dblquad(fx, 0, 1, 0, 1)[0]))\n",
    "print('三重\\t{}\\t{}'.format(gs.gausf3(fx), tplquad(fx, 0, 1, 0, 1, 0, 1)[0]))"
   ]
  },
  {
   "cell_type": "code",
   "execution_count": 6,
   "metadata": {},
   "outputs": [
    {
     "name": "stdout",
     "output_type": "stream",
     "text": [
      "8.57 µs ± 46.6 ns per loop (mean ± std. dev. of 7 runs, 100,000 loops each)\n",
      "32.5 µs ± 384 ns per loop (mean ± std. dev. of 7 runs, 10,000 loops each)\n",
      "58.1 µs ± 802 ns per loop (mean ± std. dev. of 7 runs, 10,000 loops each)\n",
      "117 µs ± 13.3 µs per loop (mean ± std. dev. of 7 runs, 10,000 loops each)\n",
      "2.09 ms ± 680 µs per loop (mean ± std. dev. of 7 runs, 100 loops each)\n",
      "15.7 ms ± 200 µs per loop (mean ± std. dev. of 7 runs, 100 loops each)\n"
     ]
    }
   ],
   "source": [
    "# 速度比较\n",
    "\n",
    "%timeit gs.gausf(fx)\n",
    "%timeit gs.gausf2(fx)\n",
    "%timeit gs.gausf3(fx)\n",
    "\n",
    "%timeit quad(fx, 0, 1)\n",
    "%timeit dblquad(fx, 0, 1, 0, 1)\n",
    "%timeit tplquad(fx, 0, 1, 0, 1, 0, 1)"
   ]
  },
  {
   "cell_type": "code",
   "execution_count": null,
   "metadata": {},
   "outputs": [],
   "source": []
  }
 ],
 "metadata": {
  "kernelspec": {
   "display_name": "Python 3.10.8 64-bit",
   "language": "python",
   "name": "python3"
  },
  "language_info": {
   "codemirror_mode": {
    "name": "ipython",
    "version": 3
   },
   "file_extension": ".py",
   "mimetype": "text/x-python",
   "name": "python",
   "nbconvert_exporter": "python",
   "pygments_lexer": "ipython3",
   "version": "3.10.8"
  },
  "orig_nbformat": 4,
  "vscode": {
   "interpreter": {
    "hash": "253e0592ee04d6a2a5845233035db648547b227237fe08728a2fd833c4cf58b4"
   }
  }
 },
 "nbformat": 4,
 "nbformat_minor": 2
}
